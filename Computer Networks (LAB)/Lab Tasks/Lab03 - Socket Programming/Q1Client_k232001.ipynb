{
 "cells": [
  {
   "cell_type": "code",
   "execution_count": 3,
   "id": "1503565f",
   "metadata": {},
   "outputs": [
    {
     "name": "stdout",
     "output_type": "stream",
     "text": [
      "Answer: 90.0\n"
     ]
    }
   ],
   "source": [
    "# 23K-2001 Muzammil\n",
    "import socket\n",
    "\n",
    "s = socket.socket()\n",
    "s.connect(('localhost', 9999))\n",
    "num1 = input(\"Input first number: \")\n",
    "num2 = input(\"Input second number: \")\n",
    "op = input(\"Enter operation (+,-,*,/): \")\n",
    "s.send(f\"{num1} {num2} {op}\".encode())\n",
    "print(\"Answer:\", s.recv(1024).decode())\n",
    "s.close()"
   ]
  }
 ],
 "metadata": {
  "kernelspec": {
   "display_name": "Python 3",
   "language": "python",
   "name": "python3"
  },
  "language_info": {
   "codemirror_mode": {
    "name": "ipython",
    "version": 3
   },
   "file_extension": ".py",
   "mimetype": "text/x-python",
   "name": "python",
   "nbconvert_exporter": "python",
   "pygments_lexer": "ipython3",
   "version": "3.13.2"
  }
 },
 "nbformat": 4,
 "nbformat_minor": 5
}
