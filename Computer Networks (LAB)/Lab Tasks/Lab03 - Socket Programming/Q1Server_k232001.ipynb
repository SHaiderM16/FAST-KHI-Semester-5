{
 "cells": [
  {
   "cell_type": "code",
   "execution_count": null,
   "id": "0d3ff5ba",
   "metadata": {},
   "outputs": [
    {
     "name": "stdout",
     "output_type": "stream",
     "text": [
      "Received: 18.0 * 5.0\n"
     ]
    }
   ],
   "source": [
    "# 23K-2001 Muzammil\n",
    "import socket\n",
    "\n",
    "s = socket.socket()\n",
    "s.bind(('localhost', 9999))\n",
    "s.listen(5)\n",
    "\n",
    "while True:\n",
    "    c, addr = s.accept()\n",
    "    data = c.recv(1024).decode()\n",
    "    num1, num2, op = data.split()\n",
    "    num1, num2 = float(num1), float(num2)\n",
    "    print(\"Received:\", num1, op, num2)\n",
    "    if op == '+':\n",
    "        result = num1 + num2\n",
    "    elif op == '-':\n",
    "        result = num1 - num2\n",
    "    elif op == '*':\n",
    "        result = num1 * num2\n",
    "    elif op == '/':\n",
    "        result = num1 / num2\n",
    "    else:\n",
    "        result = 'Invalid Operation'\n",
    "    with open('log.txt', 'a') as f:\n",
    "        f.write(f\"{num1} {op} {num2} = {result}\\n\")\n",
    "    c.send(str(result).encode())\n",
    "    c.close()"
   ]
  }
 ],
 "metadata": {
  "kernelspec": {
   "display_name": "Python 3",
   "language": "python",
   "name": "python3"
  },
  "language_info": {
   "codemirror_mode": {
    "name": "ipython",
    "version": 3
   },
   "file_extension": ".py",
   "mimetype": "text/x-python",
   "name": "python",
   "nbconvert_exporter": "python",
   "pygments_lexer": "ipython3",
   "version": "3.13.2"
  }
 },
 "nbformat": 4,
 "nbformat_minor": 5
}
