{
 "cells": [
  {
   "cell_type": "code",
   "execution_count": 5,
   "id": "5510744f",
   "metadata": {},
   "outputs": [
    {
     "name": "stdout",
     "output_type": "stream",
     "text": [
      "Letter Grade: E, Qualification: Failure\n"
     ]
    }
   ],
   "source": [
    "# 23K-2001 Muzammil\n",
    "import socket\n",
    "\n",
    "s = socket.socket()\n",
    "s.connect(('localhost', 9999))\n",
    "points = input(\"Enter grade points: \")\n",
    "s.send(points.encode())\n",
    "print(s.recv(1024).decode())\n",
    "s.close()"
   ]
  }
 ],
 "metadata": {
  "kernelspec": {
   "display_name": "Python 3",
   "language": "python",
   "name": "python3"
  },
  "language_info": {
   "codemirror_mode": {
    "name": "ipython",
    "version": 3
   },
   "file_extension": ".py",
   "mimetype": "text/x-python",
   "name": "python",
   "nbconvert_exporter": "python",
   "pygments_lexer": "ipython3",
   "version": "3.13.2"
  }
 },
 "nbformat": 4,
 "nbformat_minor": 5
}
