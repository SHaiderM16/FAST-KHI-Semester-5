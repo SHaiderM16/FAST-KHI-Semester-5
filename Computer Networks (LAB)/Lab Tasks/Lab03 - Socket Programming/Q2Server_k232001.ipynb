{
 "cells": [
  {
   "cell_type": "code",
   "execution_count": null,
   "id": "b65badee",
   "metadata": {},
   "outputs": [],
   "source": [
    "# 23K-2001 Muzammil\n",
    "import socket\n",
    "\n",
    "grades = [\n",
    "    (4.33, \"A+\", \"Excellent\"),\n",
    "    (4.00, \"A\", \"Excellent\"),\n",
    "    (3.66, \"A-\", \"Very good\"),\n",
    "    (3.33, \"B+\", \"Very good\"),\n",
    "    (3.00, \"B\", \"Very good\"),\n",
    "    (2.66, \"B-\", \"Good\"),\n",
    "    (2.33, \"C+\", \"Good\"),\n",
    "    (2.00, \"C\", \"Good\"),\n",
    "    (1.66, \"C-\", \"Passable\"),\n",
    "    (1.33, \"D+\", \"Passable\"),\n",
    "    (1.00, \"D\", \"Passable\"),\n",
    "    (0.00, \"E\", \"Failure\"),\n",
    "]\n",
    "\n",
    "def get_grade_info(points):\n",
    "    for g in grades:\n",
    "        if points >= g[0]:\n",
    "            return g[1], g[2]\n",
    "    return \"E\", \"Failure\"\n",
    "\n",
    "s = socket.socket()\n",
    "s.bind(('localhost', 9999))\n",
    "s.listen(5)\n",
    "\n",
    "while True:\n",
    "    c, addr = s.accept()\n",
    "    data = c.recv(1024).decode()\n",
    "    try:\n",
    "        points = float(data)\n",
    "        letter, qual = get_grade_info(points)\n",
    "        response = f\"Letter Grade: {letter}, Qualification: {qual}\"\n",
    "    except:\n",
    "        response = \"Invalid input\"\n",
    "    c.send(response.encode())\n",
    "    c.close()"
   ]
  }
 ],
 "metadata": {
  "kernelspec": {
   "display_name": "Python 3",
   "language": "python",
   "name": "python3"
  },
  "language_info": {
   "codemirror_mode": {
    "name": "ipython",
    "version": 3
   },
   "file_extension": ".py",
   "mimetype": "text/x-python",
   "name": "python",
   "nbconvert_exporter": "python",
   "pygments_lexer": "ipython3",
   "version": "3.13.2"
  }
 },
 "nbformat": 4,
 "nbformat_minor": 5
}
